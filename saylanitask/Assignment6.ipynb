{
  "nbformat": 4,
  "nbformat_minor": 0,
  "metadata": {
    "colab": {
      "provenance": []
    },
    "kernelspec": {
      "name": "python3",
      "display_name": "Python 3"
    },
    "language_info": {
      "name": "python"
    }
  },
  "cells": [
    {
      "cell_type": "code",
      "execution_count": 1,
      "metadata": {
        "colab": {
          "base_uri": "https://localhost:8080/"
        },
        "id": "K6J4R90c1l5v",
        "outputId": "f1f8a404-4be2-4ccb-9e47-f5077f2fb9fa"
      },
      "outputs": [
        {
          "output_type": "stream",
          "name": "stdout",
          "text": [
            "Enter the radius of the circle: 4\n",
            "Area of circle: 50.27\n",
            "Perimeter of circle: 25.13\n"
          ]
        }
      ],
      "source": [
        "import math\n",
        "\n",
        "class Circle:\n",
        "    def __init__(self, radius):\n",
        "        self.radius = radius\n",
        "\n",
        "    def area(self):\n",
        "        return math.pi * (self.radius ** 2)\n",
        "\n",
        "    def perimeter(self):\n",
        "        return 2 * math.pi * self.radius\n",
        "\n",
        "\n",
        "r = float(input(\"Enter the radius of the circle: \"))\n",
        "c = Circle(r)\n",
        "\n",
        "print(f\"Area of circle: {c.area():.2f}\")\n",
        "print(f\"Perimeter of circle: {c.perimeter():.2f}\")\n"
      ]
    },
    {
      "cell_type": "code",
      "source": [
        "from datetime import datetime\n",
        "\n",
        "class Person:\n",
        "    def __init__(self, name, country, dob):\n",
        "        self.name = name\n",
        "        self.country = country\n",
        "\n",
        "        self.dob = datetime.strptime(dob, \"%Y-%m-%d\")\n",
        "\n",
        "    def calculate_age(self):\n",
        "        today = datetime.today()\n",
        "        age = today.year - self.dob.year\n",
        "\n",
        "        if (today.month, today.day) < (self.dob.month, self.dob.day):\n",
        "            age -= 1\n",
        "        return age\n",
        "\n",
        "name = input(\"Enter name: \")\n",
        "country = input(\"Enter country: \")\n",
        "dob = input(\"Enter date of birth (YYYY-MM-DD): \")\n",
        "\n",
        "p = Person(name, country, dob)\n",
        "print(f\"\\nName: {p.name}\")\n",
        "print(f\"Country: {p.country}\")\n",
        "print(f\"Date of Birth: {p.dob.date()}\")\n",
        "print(f\"Age: {p.calculate_age()} years\")\n"
      ],
      "metadata": {
        "colab": {
          "base_uri": "https://localhost:8080/"
        },
        "id": "QiwcMkIi1ssU",
        "outputId": "abe620cf-88af-4315-9530-a37803b27697"
      },
      "execution_count": 4,
      "outputs": [
        {
          "output_type": "stream",
          "name": "stdout",
          "text": [
            "Enter name: ABDUL\n",
            "Enter country: PAK\n",
            "Enter date of birth (YYYY-MM-DD): 2002-12-22\n",
            "\n",
            "Name: ABDUL\n",
            "Country: PAK\n",
            "Date of Birth: 2002-12-22\n",
            "Age: 22 years\n"
          ]
        }
      ]
    },
    {
      "cell_type": "code",
      "source": [
        "class Calculator:\n",
        "    def add(self, a, b):\n",
        "        return a + b\n",
        "\n",
        "    def subtract(self, a, b):\n",
        "        return a - b\n",
        "\n",
        "    def multiply(self, a, b):\n",
        "        return a * b\n",
        "\n",
        "    def divide(self, a, b):\n",
        "        if b == 0:\n",
        "            return \"Error! Division by zero.\"\n",
        "        return a / b\n",
        "\n",
        "\n",
        "calc = Calculator()\n",
        "\n",
        "x = float(input(\"Enter first number: \"))\n",
        "y = float(input(\"Enter second number: \"))\n",
        "\n",
        "print(f\"\\nAddition: {calc.add(x, y)}\")\n",
        "print(f\"Subtraction: {calc.subtract(x, y)}\")\n",
        "print(f\"Multiplication: {calc.multiply(x, y)}\")\n",
        "print(f\"Division: {calc.divide(x, y)}\")\n"
      ],
      "metadata": {
        "colab": {
          "base_uri": "https://localhost:8080/"
        },
        "id": "ms-ZT37U2Gld",
        "outputId": "d4350cba-ea88-4ada-fa8e-1d297383b9ec"
      },
      "execution_count": 6,
      "outputs": [
        {
          "output_type": "stream",
          "name": "stdout",
          "text": [
            "Enter first number: 12\n",
            "Enter second number: 22\n",
            "\n",
            "Addition: 34.0\n",
            "Subtraction: -10.0\n",
            "Multiplication: 264.0\n",
            "Division: 0.5454545454545454\n"
          ]
        }
      ]
    },
    {
      "cell_type": "code",
      "source": [],
      "metadata": {
        "id": "K0AlYJgb21WE"
      },
      "execution_count": null,
      "outputs": []
    }
  ]
}