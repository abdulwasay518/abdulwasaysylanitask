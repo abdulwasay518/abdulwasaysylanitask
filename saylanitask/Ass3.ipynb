{
  "nbformat": 4,
  "nbformat_minor": 0,
  "metadata": {
    "colab": {
      "provenance": []
    },
    "kernelspec": {
      "name": "python3",
      "display_name": "Python 3"
    },
    "language_info": {
      "name": "python"
    }
  },
  "cells": [
    {
      "cell_type": "code",
      "execution_count": 1,
      "metadata": {
        "colab": {
          "base_uri": "https://localhost:8080/"
        },
        "id": "UkBMcisSxMfz",
        "outputId": "1433947d-6628-4deb-b326-b96c1d9685c9"
      },
      "outputs": [
        {
          "output_type": "stream",
          "name": "stdout",
          "text": [
            "Enter a string: vghju\n",
            "Number of vowels: 1\n"
          ]
        }
      ],
      "source": [
        "s = input(\"Enter a string: \")\n",
        "vowels = \"aeiouAEIOU\"\n",
        "count = 0\n",
        "for ch in s:\n",
        "    if ch in vowels:\n",
        "        count += 1\n",
        "print(\"Number of vowels:\", count)\n"
      ]
    },
    {
      "cell_type": "code",
      "source": [
        "s = input(\"Enter a string: \")\n",
        "upper = lower = digit = space = 0\n",
        "\n",
        "for ch in s:\n",
        "    if ch.isupper():\n",
        "        upper += 1\n",
        "    elif ch.islower():\n",
        "        lower += 1\n",
        "    elif ch.isdigit():\n",
        "        digit += 1\n",
        "    elif ch.isspace():\n",
        "        space += 1\n",
        "\n",
        "print(\"Uppercase letters:\", upper)\n",
        "print(\"Lowercase letters:\", lower)\n",
        "print(\"Digits:\", digit)\n",
        "print(\"Whitespaces:\", space)\n"
      ],
      "metadata": {
        "colab": {
          "base_uri": "https://localhost:8080/"
        },
        "id": "j88poM9sxRaj",
        "outputId": "249a1d2f-c0e4-4e85-b96c-65f82593d279"
      },
      "execution_count": 2,
      "outputs": [
        {
          "output_type": "stream",
          "name": "stdout",
          "text": [
            "Enter a string: Wasay Abdul\n",
            "Uppercase letters: 2\n",
            "Lowercase letters: 8\n",
            "Digits: 0\n",
            "Whitespaces: 1\n"
          ]
        }
      ]
    },
    {
      "cell_type": "code",
      "source": [
        "s = input(\"Enter a string: \")\n",
        "if len(s) > 1:\n",
        "    new_s = s[-1] + s[1:-1] + s[0]\n",
        "else:\n",
        "    new_s = s\n",
        "print(\"New string:\", new_s)\n"
      ],
      "metadata": {
        "colab": {
          "base_uri": "https://localhost:8080/"
        },
        "id": "NfqIJD1QxckL",
        "outputId": "9d4d7ff5-c7b9-4ae9-fc98-0037d24c5d07"
      },
      "execution_count": 3,
      "outputs": [
        {
          "output_type": "stream",
          "name": "stdout",
          "text": [
            "Enter a string: Waay\n",
            "New string: yaaW\n"
          ]
        }
      ]
    },
    {
      "cell_type": "code",
      "source": [
        "s = input(\"Enter a string: \")\n",
        "rev = \"\"\n",
        "for ch in s:\n",
        "    rev = ch + rev\n",
        "print(\"Reversed string:\", rev)\n"
      ],
      "metadata": {
        "colab": {
          "base_uri": "https://localhost:8080/"
        },
        "id": "dOXW6ZZ-x9RZ",
        "outputId": "0ba72479-8bbf-4962-b577-9cc6955aa7a0"
      },
      "execution_count": 4,
      "outputs": [
        {
          "output_type": "stream",
          "name": "stdout",
          "text": [
            "Enter a string: wasay\n",
            "Reversed string: yasaw\n"
          ]
        }
      ]
    },
    {
      "cell_type": "code",
      "source": [
        "s = input(\"Enter a string: \")\n",
        "if len(s) > 0:\n",
        "    new_s = s[1:] + s[0]\n",
        "else:\n",
        "    new_s = s\n",
        "print(\"Shifted string:\", new_s)\n"
      ],
      "metadata": {
        "colab": {
          "base_uri": "https://localhost:8080/"
        },
        "id": "SSVVr7VmyOI1",
        "outputId": "b35ece88-a8cf-4778-de51-3e1379ef88e7"
      },
      "execution_count": 5,
      "outputs": [
        {
          "output_type": "stream",
          "name": "stdout",
          "text": [
            "Enter a string: Abdul\n",
            "Shifted string: bdulA\n"
          ]
        }
      ]
    },
    {
      "cell_type": "code",
      "source": [
        "name = input(\"Enter your full name (First Middle Last): \")\n",
        "initials = name[0] + \". \"\n",
        "for i in range(1, len(name)):\n",
        "    if name[i-1] == \" \":\n",
        "        initials += name[i] + \". \"\n",
        "print(\"Initials:\", initials.strip())"
      ],
      "metadata": {
        "colab": {
          "base_uri": "https://localhost:8080/"
        },
        "id": "EtWT0NqVy39A",
        "outputId": "b133bf13-9576-441d-8814-569d7f0a9c71"
      },
      "execution_count": 6,
      "outputs": [
        {
          "output_type": "stream",
          "name": "stdout",
          "text": [
            "Enter your full name (First Middle Last): Abdul Wasay\n",
            "Initials: A. W.\n"
          ]
        }
      ]
    },
    {
      "cell_type": "code",
      "source": [
        "s = input(\"Enter a string: \")\n",
        "rev = \"\"\n",
        "for ch in s:\n",
        "    rev = ch + rev\n",
        "if s == rev:\n",
        "    print(\"Palindrome\")\n",
        "else:\n",
        "    print(\"Not Palindrome\")\n"
      ],
      "metadata": {
        "colab": {
          "base_uri": "https://localhost:8080/"
        },
        "id": "_N_BtppLy_un",
        "outputId": "41230d32-d2a4-48a2-d3e5-88057c583f45"
      },
      "execution_count": 7,
      "outputs": [
        {
          "output_type": "stream",
          "name": "stdout",
          "text": [
            "Enter a string: Abdul\n",
            "Not Palindrome\n"
          ]
        }
      ]
    },
    {
      "cell_type": "code",
      "source": [
        "s = \"SHIFT\"\n",
        "for i in range(len(s)+1):\n",
        "    rotated = s[i:] + s[:i]\n",
        "    print(rotated)\n"
      ],
      "metadata": {
        "colab": {
          "base_uri": "https://localhost:8080/"
        },
        "id": "4_vpz-VuzHpC",
        "outputId": "630267c6-63bf-4f7b-c234-f8f6d90ca444"
      },
      "execution_count": 8,
      "outputs": [
        {
          "output_type": "stream",
          "name": "stdout",
          "text": [
            "SHIFT\n",
            "HIFTS\n",
            "IFTSH\n",
            "FTSHI\n",
            "TSHIF\n",
            "SHIFT\n"
          ]
        }
      ]
    },
    {
      "cell_type": "code",
      "source": [
        "password = input(\"Enter a password: \")\n",
        "\n",
        "if (len(password) >= 8 and\n",
        "    any(ch.isupper() for ch in password) and\n",
        "    any(ch.islower() for ch in password) and\n",
        "    any(ch.isdigit() for ch in password)):\n",
        "    print(\"Password is valid \")\n",
        "else:\n",
        "    print(\"Password is invalid \")\n"
      ],
      "metadata": {
        "colab": {
          "base_uri": "https://localhost:8080/"
        },
        "id": "9wtiJtz034yE",
        "outputId": "97086b3c-d6bc-4266-86a5-446106a5beed"
      },
      "execution_count": 9,
      "outputs": [
        {
          "output_type": "stream",
          "name": "stdout",
          "text": [
            "Enter a password: Was\n",
            "Password is invalid ❌\n"
          ]
        }
      ]
    },
    {
      "cell_type": "code",
      "source": [],
      "metadata": {
        "id": "fMuCKRbY38rB"
      },
      "execution_count": null,
      "outputs": []
    }
  ]
}