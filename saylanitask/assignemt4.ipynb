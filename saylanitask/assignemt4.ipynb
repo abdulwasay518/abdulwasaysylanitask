{
  "cells": [
    {
      "cell_type": "code",
      "execution_count": null,
      "metadata": {
        "colab": {
          "base_uri": "https://localhost:8080/"
        },
        "id": "IIJvELRRsFQG",
        "outputId": "7f1f31fc-afb3-4230-8918-21734d993bb1"
      },
      "outputs": [
        {
          "name": "stdout",
          "output_type": "stream",
          "text": [
            "Enter elements separated by space: 10 20 40 50 30\n",
            "Alternate elements are:\n",
            "10\n",
            "40\n",
            "30\n"
          ]
        }
      ],
      "source": [
        "lst = input(\"Enter elements separated by space: \").split()\n",
        "print(\"Alternate elements are:\")\n",
        "for i in range(0, len(lst), 2):\n",
        "    print(lst[i])\n"
      ]
    },
    {
      "cell_type": "code",
      "execution_count": null,
      "metadata": {
        "colab": {
          "background_save": true
        },
        "id": "2YyrnBGzsI9Y",
        "outputId": "a796ec46-57be-4b0c-b6f3-c3d545889003"
      },
      "outputs": [
        {
          "name": "stdout",
          "output_type": "stream",
          "text": [
            "Reversed List: ['50', '40', '30', '20', '10']\n"
          ]
        }
      ],
      "source": [
        "lst = input(\"Enter elements separated by space: \").split()\n",
        "rev_lst = []\n",
        "\n",
        "for i in range(len(lst)-1, -1, -1):\n",
        "    rev_lst.append(lst[i])\n",
        "\n",
        "print(\"Reversed List:\", rev_lst)\n"
      ]
    },
    {
      "cell_type": "code",
      "execution_count": null,
      "metadata": {
        "colab": {
          "base_uri": "https://localhost:8080/"
        },
        "id": "bTN56F9sshlw",
        "outputId": "21f6f022-57d9-47d6-9fb6-30323d82f006"
      },
      "outputs": [
        {
          "name": "stdout",
          "output_type": "stream",
          "text": [
            "Enter numbers separated by space: 78\n",
            "Largest number: 78\n"
          ]
        }
      ],
      "source": [
        "lst = list(map(int, input(\"Enter numbers separated by space: \").split()))\n",
        "largest = lst[0]\n",
        "\n",
        "for num in lst:\n",
        "    if num > largest:\n",
        "        largest = num\n",
        "\n",
        "print(\"Largest number:\", largest)\n",
        "\n"
      ]
    },
    {
      "cell_type": "code",
      "execution_count": null,
      "metadata": {
        "id": "BPexesq-svkF"
      },
      "outputs": [],
      "source": []
    },
    {
      "cell_type": "code",
      "execution_count": null,
      "metadata": {
        "id": "-Ogos0zWtJeA"
      },
      "outputs": [],
      "source": []
    }
  ],
  "metadata": {
    "colab": {
      "provenance": []
    },
    "kernelspec": {
      "display_name": "Python 3",
      "name": "python3"
    },
    "language_info": {
      "name": "python"
    }
  },
  "nbformat": 4,
  "nbformat_minor": 0
}