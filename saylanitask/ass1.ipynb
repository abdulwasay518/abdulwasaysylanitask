{
  "nbformat": 4,
  "nbformat_minor": 0,
  "metadata": {
    "colab": {
      "provenance": []
    },
    "kernelspec": {
      "name": "python3",
      "display_name": "Python 3"
    },
    "language_info": {
      "name": "python"
    }
  },
  "cells": [
    {
      "cell_type": "code",
      "execution_count": null,
      "metadata": {
        "colab": {
          "base_uri": "https://localhost:8080/"
        },
        "id": "u8sWOrx1Szji",
        "outputId": "fca37d86-3dfe-43c4-d050-18d049f0b64e"
      },
      "outputs": [
        {
          "output_type": "stream",
          "name": "stdout",
          "text": [
            "Name:\t\tAbdul Wasay\n",
            "Father's Name:\tMr. Abdul Quddus\n",
            "Date of Birth:\t2003-05-23\n"
          ]
        }
      ],
      "source": [
        "print(\"Name:\\t\\tAbdul Wasay\")\n",
        "print(\"Father's Name:\\tMr. Abdul Quddus\")\n",
        "print(\"Date of Birth:\\t2003-05-23\")"
      ]
    },
    {
      "cell_type": "code",
      "source": [
        "\n",
        "name = \"Abdul Wasay\"\n",
        "father_name = \"Mr. Abdul Quddus\"\n",
        "dob = \"23-May-2003\"\n",
        "hobby = \"Learning AI and Coding\"\n",
        "goal = \"To become a successful AI Engineer\"\n",
        "\n",
        "print(\"===== My Bio =====\")\n",
        "print(\"Name:\\t\\t\", name)\n",
        "print(\"Father's Name:\\t\", father_name)\n",
        "print(\"Date of Birth:\\t\", dob)\n",
        "print(\"Hobby:\\t\\t\", hobby)\n",
        "print(\"Goal:\\t\\t\", goal)\n"
      ],
      "metadata": {
        "colab": {
          "base_uri": "https://localhost:8080/"
        },
        "id": "deLpQHhUS8MG",
        "outputId": "5938b6ff-832d-49ca-85fc-826d93d7fe0e"
      },
      "execution_count": null,
      "outputs": [
        {
          "output_type": "stream",
          "name": "stdout",
          "text": [
            "===== My Bio =====\n",
            "Name:\t\t Abdul Wasay\n",
            "Father's Name:\t Mr. Abdul Quddus\n",
            "Date of Birth:\t 23-May-2003\n",
            "Hobby:\t\t Learning AI and Coding\n",
            "Goal:\t\t To become a successful AI Engineer\n"
          ]
        }
      ]
    },
    {
      "cell_type": "code",
      "source": [
        "a=3\n",
        "b=10\n",
        "print('addition',a+b)\n",
        "print('subtraction',a-b)\n",
        "print('multiplication',a*b)\n",
        "print('division',a/b)\n",
        "print('power',a**b)\n",
        "print('modulus',a%b)"
      ],
      "metadata": {
        "colab": {
          "base_uri": "https://localhost:8080/"
        },
        "id": "fNb2ycjtT3Sd",
        "outputId": "75e5acbf-9097-4d60-d2c6-689ec7a69087"
      },
      "execution_count": null,
      "outputs": [
        {
          "output_type": "stream",
          "name": "stdout",
          "text": [
            "Enter a number:6\n",
            "6\n",
            "addition 13\n",
            "subtraction -7\n",
            "multiplication 30\n",
            "division 0.3\n",
            "power 59049\n",
            "modulus 3\n"
          ]
        }
      ]
    },
    {
      "cell_type": "code",
      "source": [
        "eng=70\n",
        "isl=75\n",
        "maths=80\n",
        "print('total marks',eng+isl+maths)\n",
        "print('percentage',((eng+isl+maths)/300)*100)"
      ],
      "metadata": {
        "colab": {
          "base_uri": "https://localhost:8080/"
        },
        "id": "4g_H3uR5VCg8",
        "outputId": "875404d5-d406-45d1-92a5-f2405e645bca"
      },
      "execution_count": null,
      "outputs": [
        {
          "output_type": "stream",
          "name": "stdout",
          "text": [
            "total marks 225\n",
            "percentage 75.0\n"
          ]
        }
      ]
    },
    {
      "cell_type": "code",
      "source": [
        "salary=int(input('enter your salary'))\n",
        "year=int(input('enter your year'))\n",
        "bonus=salary/20\n",
        "if (year>5):\n",
        "    print('your bonus is',bonus)\n",
        "else:\n",
        "    print('no bonus')"
      ],
      "metadata": {
        "colab": {
          "base_uri": "https://localhost:8080/"
        },
        "id": "D0TVT8_AWOpS",
        "outputId": "48a5d5b3-4a11-45ca-bc86-c168776866f9"
      },
      "execution_count": null,
      "outputs": [
        {
          "output_type": "stream",
          "name": "stdout",
          "text": [
            "enter your salary20000\n",
            "enter your year6\n",
            "your bonus is 1000.0\n"
          ]
        }
      ]
    },
    {
      "cell_type": "code",
      "source": [
        "age=int(input('enter your age'))\n",
        "if(age>17):\n",
        "    print('you are eligible for vote')\n",
        "else:\n",
        "    print('you are not eligible for vote')"
      ],
      "metadata": {
        "colab": {
          "base_uri": "https://localhost:8080/"
        },
        "id": "CjHrb9ONXeJh",
        "outputId": "092e000d-472e-44d7-87dc-e1a0cfd77418"
      },
      "execution_count": null,
      "outputs": [
        {
          "output_type": "stream",
          "name": "stdout",
          "text": [
            "enter your age67\n",
            "you are eligible for vote\n"
          ]
        }
      ]
    },
    {
      "cell_type": "code",
      "source": [
        "n=int(input('enter number'))\n",
        "if(n%2==0):\n",
        "    print('number is even')\n",
        "else:\n",
        "    print('number is odd')"
      ],
      "metadata": {
        "colab": {
          "base_uri": "https://localhost:8080/"
        },
        "id": "09aolQS7X4_O",
        "outputId": "e33c36bc-5418-4d1b-c797-aa3a10af8f23"
      },
      "execution_count": null,
      "outputs": [
        {
          "output_type": "stream",
          "name": "stdout",
          "text": [
            "enter number4\n",
            "number is even\n"
          ]
        }
      ]
    },
    {
      "cell_type": "code",
      "source": [
        "n=int(input('enter number'))\n",
        "if(n%7==0):\n",
        "    print('the number is devisible by  7 ')\n",
        "else:\n",
        "    print('the number is not devisible by 7')"
      ],
      "metadata": {
        "colab": {
          "base_uri": "https://localhost:8080/"
        },
        "id": "Ag57L7P9YXYZ",
        "outputId": "ae725c77-ab6d-4d71-cf6c-b74cbc5fe6bb"
      },
      "execution_count": null,
      "outputs": [
        {
          "output_type": "stream",
          "name": "stdout",
          "text": [
            "enter number21\n",
            "the number is devisible by  7 \n"
          ]
        }
      ]
    },
    {
      "cell_type": "code",
      "source": [
        "m=int(input('enter number'))\n",
        "if(n%5==0):\n",
        "    print('hello')\n",
        "else:\n",
        "    print('bye')"
      ],
      "metadata": {
        "colab": {
          "base_uri": "https://localhost:8080/"
        },
        "id": "OqOFipf7Y-J9",
        "outputId": "a88cab67-11bb-4797-b7ac-f6a0aeddeedf"
      },
      "execution_count": null,
      "outputs": [
        {
          "output_type": "stream",
          "name": "stdout",
          "text": [
            "enter number45\n",
            "bye\n"
          ]
        }
      ]
    },
    {
      "cell_type": "code",
      "source": [
        "m=int(input('enter number'))\n",
        "if(m%5==0):\n",
        "    print('hello')\n",
        "else:\n",
        "    print('bye')\n"
      ],
      "metadata": {
        "colab": {
          "base_uri": "https://localhost:8080/"
        },
        "id": "wyfvHPqDZdDq",
        "outputId": "24bbe99a-2703-4b9e-98e8-b39027a0694b"
      },
      "execution_count": null,
      "outputs": [
        {
          "output_type": "stream",
          "name": "stdout",
          "text": [
            "enter number45\n",
            "hello\n"
          ]
        }
      ]
    },
    {
      "cell_type": "code",
      "source": [
        "num = int(input(\"Enter a number: \"))\n",
        "last_digit = num % 10\n",
        "\n",
        "print(\"The last digit is:\", last_digit)\n"
      ],
      "metadata": {
        "colab": {
          "base_uri": "https://localhost:8080/"
        },
        "id": "oCcNuFZJbo1S",
        "outputId": "b0f313f0-312f-4d80-c6db-3e4d4db41b9f"
      },
      "execution_count": null,
      "outputs": [
        {
          "output_type": "stream",
          "name": "stdout",
          "text": [
            "Enter a number: 5678\n",
            "The last digit is: 8\n"
          ]
        }
      ]
    },
    {
      "cell_type": "code",
      "source": [
        "l=int(input('enter lenth'))\n",
        "b=int(input('enter breadth'))\n",
        "if(l>b):\n",
        "    print('area of rectangle is',l*b)\n",
        "elif(b>l):\n",
        "    print('area of rectangle is',l*b)\n",
        "else:\n",
        "    print('area of square is',l*b)"
      ],
      "metadata": {
        "colab": {
          "base_uri": "https://localhost:8080/"
        },
        "id": "Obq9T6gWcfbX",
        "outputId": "b2b032c6-2ffc-41fa-9cc6-c1952415835d"
      },
      "execution_count": null,
      "outputs": [
        {
          "output_type": "stream",
          "name": "stdout",
          "text": [
            "enter lenth34\n",
            "enter breadth34\n",
            "area of square is 1156\n"
          ]
        }
      ]
    },
    {
      "cell_type": "code",
      "source": [
        "a=int(input('enter number'))\n",
        "b=int(input('enter number'))\n",
        "if(a>b):\n",
        "  print('a greater')\n",
        "elif(b>a):\n",
        "  print('b greater')\n",
        "else:\n",
        "  print('both are equal')\n"
      ],
      "metadata": {
        "colab": {
          "base_uri": "https://localhost:8080/"
        },
        "id": "YthXIFGYeNdi",
        "outputId": "1d57d304-1f91-4579-8984-71b18bef51b9"
      },
      "execution_count": null,
      "outputs": [
        {
          "output_type": "stream",
          "name": "stdout",
          "text": [
            "enter number45\n",
            "enter number-34\n",
            "a greater\n"
          ]
        }
      ]
    },
    {
      "cell_type": "code",
      "source": [
        "quantity=int(input('enter total unit'))\n",
        "total=quantity*100\n",
        "disc=total*0.1\n",
        "if(total>1000):\n",
        "  print('total bill',total-disc)\n",
        "else:\n",
        "  print('total bill',total)"
      ],
      "metadata": {
        "id": "Eqsb_w4OfG8z",
        "colab": {
          "base_uri": "https://localhost:8080/"
        },
        "outputId": "c4af580b-b807-468f-9399-ee871bf094a7"
      },
      "execution_count": 45,
      "outputs": [
        {
          "output_type": "stream",
          "name": "stdout",
          "text": [
            "enter total unit1200\n",
            "total bill 108000.0\n"
          ]
        }
      ]
    },
    {
      "cell_type": "code",
      "source": [
        "per=float(input('enter percentage'))\n",
        "if(per<25):\n",
        "  print('grade F')\n",
        "elif(per>=25 and per<45):\n",
        "  print('grade E')\n",
        "elif(per>=45 and per<50):\n",
        "  print('grade D')\n",
        "elif(per>=50 and per<60):\n",
        "  print('grade C')\n",
        "elif(per>=60 and per<80):\n",
        "  print('grade B')\n",
        "elif(per>=80 and per<100):\n",
        "  print('grade A')"
      ],
      "metadata": {
        "colab": {
          "base_uri": "https://localhost:8080/"
        },
        "id": "yAz2u9xDg2-H",
        "outputId": "07ce494d-9656-4c58-8278-779e2d8f7b3e"
      },
      "execution_count": 48,
      "outputs": [
        {
          "output_type": "stream",
          "name": "stdout",
          "text": [
            "enter percentage89.98\n",
            "grade A\n"
          ]
        }
      ]
    },
    {
      "cell_type": "code",
      "source": [
        "Tclass=int(input('enter total class'))\n",
        "Aclass=int(input('enter attended class'))\n",
        "per=(Aclass/Tclass)*100\n",
        "print('percentage',per)\n",
        "if(per<75):\n",
        "  print('not allowed to sit in exam')\n",
        "else:\n",
        "  print('allowed to sit in exam')"
      ],
      "metadata": {
        "colab": {
          "base_uri": "https://localhost:8080/"
        },
        "id": "hwotsHb4h89s",
        "outputId": "20cf28b6-1a4b-4f47-8569-351e16a5f99c"
      },
      "execution_count": 51,
      "outputs": [
        {
          "output_type": "stream",
          "name": "stdout",
          "text": [
            "enter total class23\n",
            "enter attended class12\n",
            "percentage 52.17391304347826\n",
            "not allowed to sit in exam\n"
          ]
        }
      ]
    },
    {
      "cell_type": "code",
      "source": [
        "Tclass=int(input('enter total class'))\n",
        "Aclass=int(input('enter attended class'))\n",
        "per=(Aclass/Tclass)*100\n",
        "print('percentage',per)\n",
        "if(per<75):\n",
        "  print('not allowed to sit in exam')\n",
        "  reason=input('if you are absent due to the meadical cause type yes')\n",
        "  if(reason=='yes'):\n",
        "    print('allowed to sit in exam')\n",
        "  else:\n",
        "    print('still not allowed to sit in exam')\n",
        "else:\n",
        "  print('allowed to sit in exam')"
      ],
      "metadata": {
        "colab": {
          "base_uri": "https://localhost:8080/"
        },
        "id": "_Bu9e-aqi-ym",
        "outputId": "2b353a68-9d88-4aaf-b0a5-7f6ab61e54e9"
      },
      "execution_count": 55,
      "outputs": [
        {
          "output_type": "stream",
          "name": "stdout",
          "text": [
            "enter total class65\n",
            "enter attended class30\n",
            "percentage 46.15384615384615\n",
            "not allowed to sit in exam\n",
            "if you are absent due to the meadical cause type yesno\n",
            "still not allowed to sit in exam\n"
          ]
        }
      ]
    },
    {
      "cell_type": "code",
      "source": [
        "year=int(input('enter year'))\n",
        "if(year%4==0):\n",
        "  print('leap year')\n",
        "else:\n",
        "  print('not a leap year')"
      ],
      "metadata": {
        "colab": {
          "base_uri": "https://localhost:8080/"
        },
        "id": "oklzcM-fkZOM",
        "outputId": "2e84b0de-4097-427a-b9aa-e38e279b74c0"
      },
      "execution_count": 56,
      "outputs": [
        {
          "output_type": "stream",
          "name": "stdout",
          "text": [
            "enter year2034\n",
            "not a leap year\n"
          ]
        }
      ]
    },
    {
      "cell_type": "code",
      "source": [
        "age=int(input('enter age'))\n",
        "gender=input('enter gender if you are male type M and otherwise type F')\n",
        "marital_status=input('enter marital status if you are married type Y otherwise type N')\n",
        "if(gender=='M' and age>40 and age<=60):\n",
        "  print('you are only work in urban areas')\n",
        "elif(gender=='F'):\n",
        "  print('you are only work in urban areas')\n",
        "elif(gender=='M' and age>20 and age<=40):\n",
        "  print('you can work anywhere')\n",
        "elif(age<20 or age>60):\n",
        "  print('you cant work')\n",
        "else:\n",
        "  print('error')\n"
      ],
      "metadata": {
        "colab": {
          "base_uri": "https://localhost:8080/"
        },
        "id": "z9-dgoyEleMI",
        "outputId": "801ad780-f0b0-443d-dcb9-98e410542d0e"
      },
      "execution_count": 59,
      "outputs": [
        {
          "output_type": "stream",
          "name": "stdout",
          "text": [
            "enter age76\n",
            "enter gender if you are male type M and otherwise type Fm\n",
            "enter marital status if you are married type Y otherwise type Nn\n",
            "you cant work\n"
          ]
        }
      ]
    },
    {
      "cell_type": "code",
      "source": [
        "unit=int(input('enter unit'))\n",
        "if(unit<=100):\n",
        "  print('no charge')\n",
        "elif(unit>100 and unit<=200):\n",
        "  print('charge is',5*unit)\n",
        "elif(unit>200):\n",
        "  print('charge is',10*unit)"
      ],
      "metadata": {
        "colab": {
          "base_uri": "https://localhost:8080/"
        },
        "id": "qYDvyppHnRcO",
        "outputId": "a56d54e1-afd4-4dbc-ee6c-13275662afc4"
      },
      "execution_count": 60,
      "outputs": [
        {
          "output_type": "stream",
          "name": "stdout",
          "text": [
            "enter unit350\n",
            "charge is 3500\n"
          ]
        }
      ]
    },
    {
      "cell_type": "code",
      "source": [
        "age1 = int(input(\"Enter age of person 1: \"))\n",
        "age2 = int(input(\"Enter age of person 2: \"))\n",
        "age3 = int(input(\"Enter age of person 3: \"))\n",
        "\n",
        "oldest = max(age1, age2, age3)\n",
        "youngest = min(age1, age2, age3)\n",
        "\n",
        "print(\"Oldest age is:\", oldest)\n",
        "print(\"Youngest age is:\", youngest)\n"
      ],
      "metadata": {
        "colab": {
          "base_uri": "https://localhost:8080/"
        },
        "id": "E10h_Cpyo-WT",
        "outputId": "b702aa1e-6587-4dcf-f1a0-f7f806b35ee6"
      },
      "execution_count": 61,
      "outputs": [
        {
          "output_type": "stream",
          "name": "stdout",
          "text": [
            "Enter age of person 1: 23\n",
            "Enter age of person 2: 34\n",
            "Enter age of person 3: 12\n",
            "Oldest age is: 34\n",
            "Youngest age is: 12\n"
          ]
        }
      ]
    },
    {
      "cell_type": "code",
      "source": [],
      "metadata": {
        "id": "SASxZUrOpPY8"
      },
      "execution_count": null,
      "outputs": []
    }
  ]
}