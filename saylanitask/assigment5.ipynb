{
  "nbformat": 4,
  "nbformat_minor": 0,
  "metadata": {
    "colab": {
      "provenance": []
    },
    "kernelspec": {
      "name": "python3",
      "display_name": "Python 3"
    },
    "language_info": {
      "name": "python"
    }
  },
  "cells": [
    {
      "cell_type": "code",
      "execution_count": 1,
      "metadata": {
        "colab": {
          "base_uri": "https://localhost:8080/"
        },
        "id": "lZ9Eyjyyxf46",
        "outputId": "0c69ce02-0f60-4a25-df9f-4e40e9ed32ea"
      },
      "outputs": [
        {
          "output_type": "stream",
          "name": "stdout",
          "text": [
            "1 2 3 4 5 6 7 8 9 10 "
          ]
        }
      ],
      "source": [
        "for i in range(1, 11):\n",
        "    print(i, end=\" \")\n"
      ]
    },
    {
      "cell_type": "code",
      "source": [
        "i = 20\n",
        "while i >= 1:\n",
        "    print(i, end=\" \")\n",
        "    i -= 1\n"
      ],
      "metadata": {
        "colab": {
          "base_uri": "https://localhost:8080/"
        },
        "id": "a0wNJy6fyB_D",
        "outputId": "c86107e1-c709-48b0-ffb3-be4b88cf11a2"
      },
      "execution_count": 2,
      "outputs": [
        {
          "output_type": "stream",
          "name": "stdout",
          "text": [
            "20 19 18 17 16 15 14 13 12 11 10 9 8 7 6 5 4 3 2 1 "
          ]
        }
      ]
    },
    {
      "cell_type": "code",
      "source": [
        "for i in range(2, 11, 2):\n",
        "    print(i, end=\" \")\n"
      ],
      "metadata": {
        "colab": {
          "base_uri": "https://localhost:8080/"
        },
        "id": "2zTfDrB6yFII",
        "outputId": "fa86aeae-dccd-4632-a263-c63f79600464"
      },
      "execution_count": 3,
      "outputs": [
        {
          "output_type": "stream",
          "name": "stdout",
          "text": [
            "2 4 6 8 10 "
          ]
        }
      ]
    },
    {
      "cell_type": "code",
      "source": [
        "n = int(input(\"Enter a number: \"))\n",
        "for i in range(1, n+1):\n",
        "    print(i, end=\" \")\n"
      ],
      "metadata": {
        "colab": {
          "base_uri": "https://localhost:8080/"
        },
        "id": "5Zd_hd2QyIXR",
        "outputId": "903503ff-28ba-4f01-a5cc-ce7265e83cc1"
      },
      "execution_count": 4,
      "outputs": [
        {
          "output_type": "stream",
          "name": "stdout",
          "text": [
            "Enter a number: 5\n",
            "1 2 3 4 5 "
          ]
        }
      ]
    },
    {
      "cell_type": "code",
      "source": [
        "n = int(input(\"Enter a number: \"))\n",
        "for i in range(1, n+1, 2):\n",
        "    print(i, end=\" \")\n"
      ],
      "metadata": {
        "colab": {
          "base_uri": "https://localhost:8080/"
        },
        "id": "6XN3thP5yNKe",
        "outputId": "4fd3e561-bc43-4659-9920-ba6ef2ce113f"
      },
      "execution_count": 5,
      "outputs": [
        {
          "output_type": "stream",
          "name": "stdout",
          "text": [
            "Enter a number: 10\n",
            "1 3 5 7 9 "
          ]
        }
      ]
    },
    {
      "cell_type": "code",
      "source": [
        "for i in range(5):\n",
        "    print(\"Happy Birthday!\")\n",
        "\n"
      ],
      "metadata": {
        "colab": {
          "base_uri": "https://localhost:8080/"
        },
        "id": "1tkpCn1gyRkt",
        "outputId": "1c2bb3f8-420d-446b-f792-264964288dda"
      },
      "execution_count": 6,
      "outputs": [
        {
          "output_type": "stream",
          "name": "stdout",
          "text": [
            "Happy Birthday!\n",
            "Happy Birthday!\n",
            "Happy Birthday!\n",
            "Happy Birthday!\n",
            "Happy Birthday!\n"
          ]
        }
      ]
    },
    {
      "cell_type": "code",
      "source": [
        "n = int(input(\"Enter a number: \"))\n",
        "print(f\"The first {n} terms of the series are:\")\n",
        "for i in range(1, n+1):\n",
        "    print(i*i, end=\" \")\n"
      ],
      "metadata": {
        "colab": {
          "base_uri": "https://localhost:8080/"
        },
        "id": "Zvl4awtbyaa5",
        "outputId": "a1fa502c-9735-4252-8194-b71e3239204f"
      },
      "execution_count": 7,
      "outputs": [
        {
          "output_type": "stream",
          "name": "stdout",
          "text": [
            "Enter a number: 6\n",
            "The first 6 terms of the series are:\n",
            "1 4 9 16 25 36 "
          ]
        }
      ]
    },
    {
      "cell_type": "code",
      "source": [
        "n = int(input(\"Enter a number: \"))\n",
        "for i in range(1, 11):\n",
        "    print(f\"{n} x {i} = {n*i}\")\n"
      ],
      "metadata": {
        "colab": {
          "base_uri": "https://localhost:8080/"
        },
        "id": "z9my7vAhydZP",
        "outputId": "7fe5c040-31ed-49b4-b3b4-4e956e576ed9"
      },
      "execution_count": 8,
      "outputs": [
        {
          "output_type": "stream",
          "name": "stdout",
          "text": [
            "Enter a number: 6\n",
            "6 x 1 = 6\n",
            "6 x 2 = 12\n",
            "6 x 3 = 18\n",
            "6 x 4 = 24\n",
            "6 x 5 = 30\n",
            "6 x 6 = 36\n",
            "6 x 7 = 42\n",
            "6 x 8 = 48\n",
            "6 x 9 = 54\n",
            "6 x 10 = 60\n"
          ]
        }
      ]
    },
    {
      "cell_type": "code",
      "source": [
        "a = 3\n",
        "d = 4\n",
        "for i in range(8):\n",
        "    print(a + i*d, end=\" \")\n",
        "\n"
      ],
      "metadata": {
        "colab": {
          "base_uri": "https://localhost:8080/"
        },
        "id": "0PdqgDmhyk7_",
        "outputId": "e5e83776-8b8d-4dfa-bed3-ca1be2465de0"
      },
      "execution_count": 13,
      "outputs": [
        {
          "output_type": "stream",
          "name": "stdout",
          "text": [
            "3 7 11 15 19 23 27 31 "
          ]
        }
      ]
    },
    {
      "cell_type": "code",
      "source": [
        "a = 2\n",
        "r = 3\n",
        "for i in range(6):\n",
        "    print(a * (r**i), end=\" \")\n"
      ],
      "metadata": {
        "colab": {
          "base_uri": "https://localhost:8080/"
        },
        "id": "ZYlobTDyypJW",
        "outputId": "47f024d8-f499-431d-eb73-101ad7ee6b84"
      },
      "execution_count": 12,
      "outputs": [
        {
          "output_type": "stream",
          "name": "stdout",
          "text": [
            "2 6 18 54 162 486 "
          ]
        }
      ]
    },
    {
      "cell_type": "code",
      "source": [
        "n = int(input(\"Enter a positive integer: \"))\n",
        "total = 0\n",
        "for i in range(1, n+1):\n",
        "    total += i\n",
        "print(\"Sum from 1 to\", n, \"is:\", total)\n"
      ],
      "metadata": {
        "colab": {
          "base_uri": "https://localhost:8080/"
        },
        "id": "AhowO6M5ytic",
        "outputId": "99ab5093-1e18-4fec-8642-4b5359524ffc"
      },
      "execution_count": 14,
      "outputs": [
        {
          "output_type": "stream",
          "name": "stdout",
          "text": [
            "Enter a positive integer: 6\n",
            "Sum from 1 to 6 is: 21\n"
          ]
        }
      ]
    },
    {
      "cell_type": "code",
      "source": [
        "n = int(input(\"Enter a positive integer: \"))\n",
        "total = 0\n",
        "for i in range(1, n+1):\n",
        "    total += 1/i\n",
        "print(f\"The sum of reciprocals from 1 to {n} is: {total:.2f}\")\n"
      ],
      "metadata": {
        "colab": {
          "base_uri": "https://localhost:8080/"
        },
        "id": "4h1UQao9y2Bz",
        "outputId": "64d69e16-37ae-4528-be53-0755f14a9418"
      },
      "execution_count": 15,
      "outputs": [
        {
          "output_type": "stream",
          "name": "stdout",
          "text": [
            "Enter a positive integer: 6\n",
            "The sum of reciprocals from 1 to 6 is: 2.45\n"
          ]
        }
      ]
    },
    {
      "cell_type": "code",
      "source": [
        "total = 0\n",
        "for i in range(5):\n",
        "    num = int(input(\"Enter a number: \"))\n",
        "    total += num\n",
        "print(\"The final running total is:\", total)\n"
      ],
      "metadata": {
        "colab": {
          "base_uri": "https://localhost:8080/"
        },
        "id": "qVFHJzxny5y6",
        "outputId": "38146bae-2e6e-4b44-8529-e03623648fbf"
      },
      "execution_count": 21,
      "outputs": [
        {
          "output_type": "stream",
          "name": "stdout",
          "text": [
            "Enter a number: 19\n",
            "Enter a number: 23\n",
            "Enter a number: 23\n",
            "Enter a number: 43\n",
            "Enter a number: 21\n",
            "The final running total is: 129\n"
          ]
        }
      ]
    },
    {
      "cell_type": "code",
      "source": [
        "n = int(input(\"Enter a number: \"))\n",
        "\n",
        "if n < 0:\n",
        "    print(\"Factorial does not exist for negative numbers.\")\n",
        "elif n == 0:\n",
        "    print(\"The factorial of 0 is 1\")\n",
        "else:\n",
        "    fact = 1\n",
        "    for i in range(1, n+1):\n",
        "        fact *= i\n",
        "    print(f\"The factorial of {n} is {fact}\")\n"
      ],
      "metadata": {
        "colab": {
          "base_uri": "https://localhost:8080/"
        },
        "id": "EkDvL3CBy_bB",
        "outputId": "898c340d-f5ed-4f56-b12f-a7422fc31b31"
      },
      "execution_count": 18,
      "outputs": [
        {
          "output_type": "stream",
          "name": "stdout",
          "text": [
            "Enter a number: 5\n",
            "The factorial of 5 is 120\n"
          ]
        }
      ]
    },
    {
      "cell_type": "code",
      "source": [
        "base = float(input(\"Enter base: \"))\n",
        "exp = int(input(\"Enter exponent: \"))\n",
        "\n",
        "result = 1\n",
        "if exp > 0:\n",
        "    for i in range(exp):\n",
        "        result *= base\n",
        "elif exp < 0:\n",
        "    for i in range(-exp):\n",
        "        result *= base\n",
        "    result = 1 / result\n",
        "else:\n",
        "    result = 1\n",
        "\n",
        "print(f\"{base} raised to {exp} is {result}\")\n"
      ],
      "metadata": {
        "colab": {
          "base_uri": "https://localhost:8080/"
        },
        "id": "PVsk0_F0zN1o",
        "outputId": "17ea80f7-d8a8-4ea1-b809-1b982566c466"
      },
      "execution_count": 19,
      "outputs": [
        {
          "output_type": "stream",
          "name": "stdout",
          "text": [
            "Enter base: 2\n",
            "Enter exponent: 23\n",
            "2.0 raised to 23 is 8388608.0\n"
          ]
        }
      ]
    },
    {
      "cell_type": "code",
      "source": [],
      "metadata": {
        "id": "N5ZPEGOJzWYq"
      },
      "execution_count": null,
      "outputs": []
    }
  ]
}