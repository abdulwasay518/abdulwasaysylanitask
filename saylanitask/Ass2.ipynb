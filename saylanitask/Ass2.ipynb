{
  "nbformat": 4,
  "nbformat_minor": 0,
  "metadata": {
    "colab": {
      "provenance": []
    },
    "kernelspec": {
      "name": "python3",
      "display_name": "Python 3"
    },
    "language_info": {
      "name": "python"
    }
  },
  "cells": [
    {
      "cell_type": "code",
      "execution_count": 1,
      "metadata": {
        "colab": {
          "base_uri": "https://localhost:8080/"
        },
        "id": "zG-ukmaXb66T",
        "outputId": "03cc6189-f03f-4e10-f16f-c1fb05e09161"
      },
      "outputs": [
        {
          "output_type": "stream",
          "name": "stdout",
          "text": [
            "enter your salary30000\n",
            "enter your year6\n",
            "your bonus is 1500.0\n"
          ]
        }
      ],
      "source": [
        "salary=int(input('enter your salary'))\n",
        "year=int(input('enter your year'))\n",
        "bonus=salary/20\n",
        "if (year>5):\n",
        "    print('your bonus is',bonus)\n",
        "else:\n",
        "    print('no bonus')\n",
        ""
      ]
    },
    {
      "cell_type": "code",
      "source": [
        "age=int(input('enter your age'))\n",
        "if(age>17):\n",
        "    print('you are eligible for vote')\n",
        "else:\n",
        "    print('you are not eligible for vote')"
      ],
      "metadata": {
        "colab": {
          "base_uri": "https://localhost:8080/"
        },
        "id": "jBgi62R1e5XZ",
        "outputId": "a1efbdf4-8ab3-499e-c0be-0974a7bb44b4"
      },
      "execution_count": 2,
      "outputs": [
        {
          "output_type": "stream",
          "name": "stdout",
          "text": [
            "enter your age65\n",
            "you are eligible for vote\n"
          ]
        }
      ]
    },
    {
      "cell_type": "code",
      "source": [
        "n=int(input('enter number'))\n",
        "if(n%2==0):\n",
        "    print('number is even')\n",
        "else:\n",
        "    print('number is odd')"
      ],
      "metadata": {
        "colab": {
          "base_uri": "https://localhost:8080/"
        },
        "id": "IHZ1VC2ZfZPL",
        "outputId": "5ac87a3b-aef2-4b8e-f8d5-5fd7c80c1041"
      },
      "execution_count": 3,
      "outputs": [
        {
          "output_type": "stream",
          "name": "stdout",
          "text": [
            "enter number4\n",
            "number is even\n"
          ]
        }
      ]
    },
    {
      "cell_type": "code",
      "source": [
        "n=int(input('enter number'))\n",
        "if(n%7==0):\n",
        "    print('the number is devisible by  7 ')\n",
        "else:\n",
        "    print('the number is not devisible by 7')"
      ],
      "metadata": {
        "colab": {
          "base_uri": "https://localhost:8080/"
        },
        "id": "ZWo16nvzfeaL",
        "outputId": "f4977a23-dd3d-4492-e850-a69a626b05c5"
      },
      "execution_count": 4,
      "outputs": [
        {
          "output_type": "stream",
          "name": "stdout",
          "text": [
            "enter number6\n",
            "the number is not devisible by 7\n"
          ]
        }
      ]
    },
    {
      "cell_type": "code",
      "source": [
        "m=int(input('enter number'))\n",
        "if(n%5==0):\n",
        "    print('hello')\n",
        "else:\n",
        "    print('bye')"
      ],
      "metadata": {
        "colab": {
          "base_uri": "https://localhost:8080/"
        },
        "id": "_0d_cpelfhum",
        "outputId": "3f18b24d-9b31-4f85-b528-7fd1c5f6c0b1"
      },
      "execution_count": 5,
      "outputs": [
        {
          "output_type": "stream",
          "name": "stdout",
          "text": [
            "enter number3\n",
            "bye\n"
          ]
        }
      ]
    },
    {
      "cell_type": "code",
      "source": [
        "num = int(input(\"Enter a number: \"))\n",
        "last_digit = num % 10\n",
        "\n",
        "print(\"The last digit is:\", last_digit)\n"
      ],
      "metadata": {
        "colab": {
          "base_uri": "https://localhost:8080/"
        },
        "id": "E2bLlqN0fnrU",
        "outputId": "d5222c64-a226-44db-f9e5-66bb721eaaa5"
      },
      "execution_count": 6,
      "outputs": [
        {
          "output_type": "stream",
          "name": "stdout",
          "text": [
            "Enter a number: 463\n",
            "The last digit is: 3\n"
          ]
        }
      ]
    },
    {
      "cell_type": "code",
      "source": [
        "l=int(input('enter lenth'))\n",
        "b=int(input('enter breadth'))\n",
        "if(l>b):\n",
        "    print('area of rectangle is',l*b)\n",
        "elif(b>l):\n",
        "    print('area of rectangle is',l*b)\n",
        "else:\n",
        "    print('area of square is',l*b)"
      ],
      "metadata": {
        "colab": {
          "base_uri": "https://localhost:8080/"
        },
        "id": "0Wq4qXShfy0I",
        "outputId": "70f7ec8c-750a-4eed-c80e-7dfedca89f54"
      },
      "execution_count": 7,
      "outputs": [
        {
          "output_type": "stream",
          "name": "stdout",
          "text": [
            "enter lenth23\n",
            "enter breadth23\n",
            "area of square is 529\n"
          ]
        }
      ]
    },
    {
      "cell_type": "code",
      "source": [
        "a=int(input('enter number'))\n",
        "b=int(input('enter number'))\n",
        "if(a>b):\n",
        "  print('a greater')\n",
        "elif(b>a):\n",
        "  print('b greater')\n",
        "else:\n",
        "  print('both are equal')\n"
      ],
      "metadata": {
        "colab": {
          "base_uri": "https://localhost:8080/"
        },
        "id": "beOdL6Off_xE",
        "outputId": "4ff78816-5c0b-4f65-b031-9b1ca405c10f"
      },
      "execution_count": 8,
      "outputs": [
        {
          "output_type": "stream",
          "name": "stdout",
          "text": [
            "enter number23\n",
            "enter number32\n",
            "b greater\n"
          ]
        }
      ]
    },
    {
      "cell_type": "code",
      "source": [
        "quantity=int(input('enter total unit'))\n",
        "total=quantity*100\n",
        "disc=total*0.1\n",
        "if(total>1000):\n",
        "  print('total bill',total-disc)\n",
        "else:\n",
        "  print('total bill',total)"
      ],
      "metadata": {
        "colab": {
          "base_uri": "https://localhost:8080/"
        },
        "id": "hnBscULDgFA0",
        "outputId": "09705f55-8f1a-46a2-cd12-4213749302e7"
      },
      "execution_count": 9,
      "outputs": [
        {
          "output_type": "stream",
          "name": "stdout",
          "text": [
            "enter total unit23\n",
            "total bill 2070.0\n"
          ]
        }
      ]
    },
    {
      "cell_type": "code",
      "source": [
        "per=float(input('enter percentage'))\n",
        "if(per<25):\n",
        "  print('grade F')\n",
        "elif(per>=25 and per<45):\n",
        "  print('grade E')\n",
        "elif(per>=45 and per<50):\n",
        "  print('grade D')\n",
        "elif(per>=50 and per<60):\n",
        "  print('grade C')\n",
        "elif(per>=60 and per<80):\n",
        "  print('grade B')\n",
        "elif(per>=80 and per<100):\n",
        "  print('grade A')"
      ],
      "metadata": {
        "colab": {
          "base_uri": "https://localhost:8080/"
        },
        "id": "x4hZ0V7PgKIC",
        "outputId": "d457f09c-72bf-4e94-c660-ce6a0a7734e0"
      },
      "execution_count": 10,
      "outputs": [
        {
          "output_type": "stream",
          "name": "stdout",
          "text": [
            "enter percentage56\n",
            "grade C\n"
          ]
        }
      ]
    },
    {
      "cell_type": "code",
      "source": [
        "Tclass=int(input('enter total class'))\n",
        "Aclass=int(input('enter attended class'))\n",
        "per=(Aclass/Tclass)*100\n",
        "print('percentage',per)\n",
        "if(per<75):\n",
        "  print('not allowed to sit in exam')\n",
        "else:\n",
        "  print('allowed to sit in exam')"
      ],
      "metadata": {
        "colab": {
          "base_uri": "https://localhost:8080/"
        },
        "id": "gXrnUnDTgUaR",
        "outputId": "8199986f-f0bd-401a-ecee-6f88d3fc7b65"
      },
      "execution_count": 11,
      "outputs": [
        {
          "output_type": "stream",
          "name": "stdout",
          "text": [
            "enter total class45\n",
            "enter attended class32\n",
            "percentage 71.11111111111111\n",
            "not allowed to sit in exam\n"
          ]
        }
      ]
    },
    {
      "cell_type": "code",
      "source": [
        "Tclass=int(input('enter total class'))\n",
        "Aclass=int(input('enter attended class'))\n",
        "per=(Aclass/Tclass)*100\n",
        "print('percentage',per)\n",
        "if(per<75):\n",
        "  print('not allowed to sit in exam')\n",
        "  reason=input('if you are absent due to the meadical cause type yes')\n",
        "  if(reason=='yes'):\n",
        "    print('allowed to sit in exam')\n",
        "  else:\n",
        "    print('still not allowed to sit in exam')\n",
        "else:\n",
        "  print('allowed to sit in exam')"
      ],
      "metadata": {
        "colab": {
          "base_uri": "https://localhost:8080/"
        },
        "id": "vaL4heeOgY53",
        "outputId": "bf636215-39dc-417f-e02d-bfaab9509b78"
      },
      "execution_count": 13,
      "outputs": [
        {
          "output_type": "stream",
          "name": "stdout",
          "text": [
            "enter total class45\n",
            "enter attended class32\n",
            "percentage 71.11111111111111\n",
            "not allowed to sit in exam\n",
            "if you are absent due to the meadical cause type yesyes\n",
            "allowed to sit in exam\n"
          ]
        }
      ]
    },
    {
      "cell_type": "code",
      "source": [
        "year=int(input('enter year'))\n",
        "if(year%4==0):\n",
        "  print('leap year')\n",
        "else:\n",
        "  print('not a leap year')"
      ],
      "metadata": {
        "colab": {
          "base_uri": "https://localhost:8080/"
        },
        "id": "g1eXf_olgfcs",
        "outputId": "004415da-1693-47f1-81b1-f601c160160c"
      },
      "execution_count": 14,
      "outputs": [
        {
          "output_type": "stream",
          "name": "stdout",
          "text": [
            "enter year2024\n",
            "leap year\n"
          ]
        }
      ]
    },
    {
      "cell_type": "code",
      "source": [
        "age=int(input('enter age'))\n",
        "gender=input('enter gender if you are male type M and otherwise type F')\n",
        "marital_status=input('enter marital status if you are married type Y otherwise type N')\n",
        "if(gender=='M' and age>40 and age<=60):\n",
        "  print('you are only work in urban areas')\n",
        "elif(gender=='F'):\n",
        "  print('you are only work in urban areas')\n",
        "elif(gender=='M' and age>20 and age<=40):\n",
        "  print('you can work anywhere')\n",
        "elif(age<20 or age>60):\n",
        "  print('you cant work')\n",
        "else:\n",
        "  print('error')\n"
      ],
      "metadata": {
        "colab": {
          "base_uri": "https://localhost:8080/"
        },
        "id": "bpLALXLkgqKg",
        "outputId": "622cd7d2-c9dc-4059-921b-5bcf9caecf91"
      },
      "execution_count": 15,
      "outputs": [
        {
          "output_type": "stream",
          "name": "stdout",
          "text": [
            "enter age23\n",
            "enter gender if you are male type M and otherwise type Ff\n",
            "enter marital status if you are married type Y otherwise type Nn\n",
            "error\n"
          ]
        }
      ]
    },
    {
      "cell_type": "code",
      "source": [
        "unit=int(input('enter unit'))\n",
        "if(unit<=100):\n",
        "  print('no charge')\n",
        "elif(unit>100 and unit<=200):\n",
        "  print('charge is',5*unit)\n",
        "elif(unit>200):\n",
        "  print('charge is',10*unit)"
      ],
      "metadata": {
        "colab": {
          "base_uri": "https://localhost:8080/"
        },
        "id": "5j0BwrCkg0bP",
        "outputId": "896a32e1-1f99-4932-ca51-7b4c5faa610a"
      },
      "execution_count": 16,
      "outputs": [
        {
          "output_type": "stream",
          "name": "stdout",
          "text": [
            "enter unit345\n",
            "charge is 3450\n"
          ]
        }
      ]
    },
    {
      "cell_type": "code",
      "source": [
        "age1 = int(input(\"Enter age of person 1: \"))\n",
        "age2 = int(input(\"Enter age of person 2: \"))\n",
        "age3 = int(input(\"Enter age of person 3: \"))\n",
        "\n",
        "oldest = max(age1, age2, age3)\n",
        "youngest = min(age1, age2, age3)\n",
        "\n",
        "print(\"Oldest age is:\", oldest)\n",
        "print(\"Youngest age is:\", youngest)\n"
      ],
      "metadata": {
        "colab": {
          "base_uri": "https://localhost:8080/"
        },
        "id": "QwfhwaXtg7yD",
        "outputId": "d03709b4-b335-4dcf-f00a-9c1d7a0bc1a1"
      },
      "execution_count": 17,
      "outputs": [
        {
          "output_type": "stream",
          "name": "stdout",
          "text": [
            "Enter age of person 1: 21\n",
            "Enter age of person 2: 34\n",
            "Enter age of person 3: 21\n",
            "Oldest age is: 34\n",
            "Youngest age is: 21\n"
          ]
        }
      ]
    },
    {
      "cell_type": "code",
      "source": [],
      "metadata": {
        "id": "-HYjwOV3hEMf"
      },
      "execution_count": null,
      "outputs": []
    }
  ]
}